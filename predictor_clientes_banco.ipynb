{
  "nbformat": 4,
  "nbformat_minor": 0,
  "metadata": {
    "colab": {
      "name": "Copy of artificial_neural_network.ipynb",
      "provenance": [],
      "collapsed_sections": []
    },
    "kernelspec": {
      "name": "python3",
      "display_name": "Python 3"
    }
  },
  "cells": [
    {
      "cell_type": "markdown",
      "metadata": {
        "id": "lP6JLo1tGNBg",
        "colab_type": "text"
      },
      "source": [
        "# Artificial Neural Network"
      ]
    },
    {
      "cell_type": "markdown",
      "metadata": {
        "id": "gWZyYmS_UE_L",
        "colab_type": "text"
      },
      "source": [
        "### Importo Librerias"
      ]
    },
    {
      "cell_type": "code",
      "metadata": {
        "id": "iAsCuApN-rFX",
        "colab_type": "code",
        "colab": {}
      },
      "source": [
        "import numpy as np\n",
        "import pandas as pd\n",
        "import tensorflow as tf"
      ],
      "execution_count": 1,
      "outputs": []
    },
    {
      "cell_type": "markdown",
      "metadata": {
        "id": "1E0Q3aoKUCRX",
        "colab_type": "text"
      },
      "source": [
        "## PARTE 1: Proceso de datos"
      ]
    },
    {
      "cell_type": "markdown",
      "metadata": {
        "id": "cKWAkFVGUU0Z",
        "colab_type": "text"
      },
      "source": [
        "### Importo datos"
      ]
    },
    {
      "cell_type": "code",
      "metadata": {
        "id": "c8CuSwYi_i69",
        "colab_type": "code",
        "colab": {}
      },
      "source": [
        "dataset = pd.read_csv('Churn_Modelling.csv')\n",
        "X = dataset.iloc[:, 3:-1].values\n",
        "y = dataset.iloc[:, -1].values"
      ],
      "execution_count": 4,
      "outputs": []
    },
    {
      "cell_type": "markdown",
      "metadata": {
        "id": "N6bQ0UgSU-NJ",
        "colab_type": "text"
      },
      "source": [
        "### Creo Encoding para data categorica"
      ]
    },
    {
      "cell_type": "markdown",
      "metadata": {
        "id": "le5MJreAbW52",
        "colab_type": "text"
      },
      "source": [
        "Encoding para \"Gender\""
      ]
    },
    {
      "cell_type": "code",
      "metadata": {
        "id": "qoF5rSZUAsUu",
        "colab_type": "code",
        "colab": {}
      },
      "source": [
        "from sklearn.preprocessing import LabelEncoder\n",
        "le = LabelEncoder()\n",
        "X[:, 2] = le.fit_transform(X[:, 2])"
      ],
      "execution_count": 8,
      "outputs": []
    },
    {
      "cell_type": "markdown",
      "metadata": {
        "id": "CUxGZezpbMcb",
        "colab_type": "text"
      },
      "source": [
        "Encoding para \"Geography\""
      ]
    },
    {
      "cell_type": "code",
      "metadata": {
        "id": "F-AhIOIjBTw3",
        "colab_type": "code",
        "colab": {}
      },
      "source": [
        "from sklearn.compose import ColumnTransformer\n",
        "from sklearn.preprocessing import OneHotEncoder\n",
        "ct = ColumnTransformer(transformers=[('encoder', OneHotEncoder(), [1])], remainder='passthrough')\n",
        "X = np.array(ct.fit_transform(X))"
      ],
      "execution_count": 10,
      "outputs": []
    },
    {
      "cell_type": "code",
      "metadata": {
        "id": "lzMczFgqG8Xj",
        "colab_type": "code",
        "colab": {
          "base_uri": "https://localhost:8080/",
          "height": 139
        },
        "outputId": "15997f46-3acb-4f26-bbdf-b37b4d0d0f86"
      },
      "source": [
        "X"
      ],
      "execution_count": 11,
      "outputs": [
        {
          "output_type": "execute_result",
          "data": {
            "text/plain": [
              "array([[1.0, 0.0, 0.0, ..., 1, 1, 101348.88],\n",
              "       [0.0, 0.0, 1.0, ..., 0, 1, 112542.58],\n",
              "       [1.0, 0.0, 0.0, ..., 1, 0, 113931.57],\n",
              "       ...,\n",
              "       [1.0, 0.0, 0.0, ..., 0, 1, 42085.58],\n",
              "       [0.0, 1.0, 0.0, ..., 1, 0, 92888.52],\n",
              "       [1.0, 0.0, 0.0, ..., 1, 0, 38190.78]], dtype=object)"
            ]
          },
          "metadata": {
            "tags": []
          },
          "execution_count": 11
        }
      ]
    },
    {
      "cell_type": "markdown",
      "metadata": {
        "id": "vHol938cW8zd",
        "colab_type": "text"
      },
      "source": [
        "### Separo data en training y testing "
      ]
    },
    {
      "cell_type": "code",
      "metadata": {
        "id": "C59_EFcyG7eP",
        "colab_type": "code",
        "colab": {}
      },
      "source": [
        "from sklearn.model_selection import train_test_split\n",
        "X_train, X_test, y_train, y_test = train_test_split(X, y, test_size = 0.2, random_state = 0)"
      ],
      "execution_count": 12,
      "outputs": []
    },
    {
      "cell_type": "markdown",
      "metadata": {
        "id": "RE_FcHyfV3TQ",
        "colab_type": "text"
      },
      "source": [
        "### Escalo todo los datos"
      ]
    },
    {
      "cell_type": "code",
      "metadata": {
        "id": "1LEC9yFdHgFL",
        "colab_type": "code",
        "colab": {}
      },
      "source": [
        "from sklearn.preprocessing import StandardScaler\n",
        "sc = StandardScaler()\n",
        "X_train = sc.fit_transform(X_train)\n",
        "X_test = sc.transform(X_test)"
      ],
      "execution_count": 13,
      "outputs": []
    },
    {
      "cell_type": "markdown",
      "metadata": {
        "id": "-zfEzkRVXIwF",
        "colab_type": "text"
      },
      "source": [
        "## PARTE 2: Construccion de ANN"
      ]
    },
    {
      "cell_type": "markdown",
      "metadata": {
        "id": "KvdeScabXtlB",
        "colab_type": "text"
      },
      "source": [
        "### Inicializo"
      ]
    },
    {
      "cell_type": "code",
      "metadata": {
        "id": "AwOUyeHkIAgk",
        "colab_type": "code",
        "colab": {}
      },
      "source": [
        "ann = tf.keras.models.Sequential()"
      ],
      "execution_count": 15,
      "outputs": []
    },
    {
      "cell_type": "markdown",
      "metadata": {
        "id": "rP6urV6SX7kS",
        "colab_type": "text"
      },
      "source": [
        "### Agrego una primera capa"
      ]
    },
    {
      "cell_type": "code",
      "metadata": {
        "id": "byvKFegGLykO",
        "colab_type": "code",
        "colab": {}
      },
      "source": [
        "ann.add(tf.keras.layers.Dense(units=6, activation='relu'))"
      ],
      "execution_count": 16,
      "outputs": []
    },
    {
      "cell_type": "markdown",
      "metadata": {
        "id": "BELWAc_8YJze",
        "colab_type": "text"
      },
      "source": [
        "### Agrego una segunda capa"
      ]
    },
    {
      "cell_type": "code",
      "metadata": {
        "id": "f6MA8qPYNdW1",
        "colab_type": "code",
        "colab": {}
      },
      "source": [
        "ann.add(tf.keras.layers.Dense(units=6, activation='relu'))"
      ],
      "execution_count": 17,
      "outputs": []
    },
    {
      "cell_type": "markdown",
      "metadata": {
        "id": "OyNEe6RXYcU4",
        "colab_type": "text"
      },
      "source": [
        "### Agrego capa de salida"
      ]
    },
    {
      "cell_type": "code",
      "metadata": {
        "id": "PsBVg5TKNhWU",
        "colab_type": "code",
        "colab": {}
      },
      "source": [
        "ann.add(tf.keras.layers.Dense(units=1, activation='sigmoid'))"
      ],
      "execution_count": 18,
      "outputs": []
    },
    {
      "cell_type": "markdown",
      "metadata": {
        "id": "JT4u2S1_Y4WG",
        "colab_type": "text"
      },
      "source": [
        "## PARTE 3: Entreno a la ANN"
      ]
    },
    {
      "cell_type": "markdown",
      "metadata": {
        "id": "8GWlJChhY_ZI",
        "colab_type": "text"
      },
      "source": [
        "### Compilo la ANN"
      ]
    },
    {
      "cell_type": "code",
      "metadata": {
        "id": "5vxusu9SOH7L",
        "colab_type": "code",
        "colab": {}
      },
      "source": [
        "ann.compile(optimizer = 'adam', loss = 'binary_crossentropy', metrics = ['accuracy'])"
      ],
      "execution_count": 19,
      "outputs": []
    },
    {
      "cell_type": "markdown",
      "metadata": {
        "id": "0QR_G5u7ZLSM",
        "colab_type": "text"
      },
      "source": [
        "### Entreno la ANN con el set de training"
      ]
    },
    {
      "cell_type": "code",
      "metadata": {
        "id": "k-Ie-HPMO2OU",
        "colab_type": "code",
        "colab": {
          "base_uri": "https://localhost:8080/",
          "height": 1000
        },
        "outputId": "b670c34b-d890-4ee9-fc91-d68e49a23e66"
      },
      "source": [
        "ann.fit(X_train, y_train, batch_size = 32, epochs = 100)"
      ],
      "execution_count": 20,
      "outputs": [
        {
          "output_type": "stream",
          "text": [
            "Epoch 1/100\n",
            "250/250 [==============================] - 0s 884us/step - loss: 0.5696 - accuracy: 0.7660\n",
            "Epoch 2/100\n",
            "250/250 [==============================] - 0s 888us/step - loss: 0.4794 - accuracy: 0.7959\n",
            "Epoch 3/100\n",
            "250/250 [==============================] - 0s 895us/step - loss: 0.4482 - accuracy: 0.8005\n",
            "Epoch 4/100\n",
            "250/250 [==============================] - 0s 964us/step - loss: 0.4338 - accuracy: 0.8069\n",
            "Epoch 5/100\n",
            "250/250 [==============================] - 0s 875us/step - loss: 0.4254 - accuracy: 0.8135\n",
            "Epoch 6/100\n",
            "250/250 [==============================] - 0s 896us/step - loss: 0.4199 - accuracy: 0.8166\n",
            "Epoch 7/100\n",
            "250/250 [==============================] - 0s 883us/step - loss: 0.4158 - accuracy: 0.8198\n",
            "Epoch 8/100\n",
            "250/250 [==============================] - 0s 904us/step - loss: 0.4118 - accuracy: 0.8215\n",
            "Epoch 9/100\n",
            "250/250 [==============================] - 0s 873us/step - loss: 0.4087 - accuracy: 0.8253\n",
            "Epoch 10/100\n",
            "250/250 [==============================] - 0s 871us/step - loss: 0.4062 - accuracy: 0.8264\n",
            "Epoch 11/100\n",
            "250/250 [==============================] - 0s 874us/step - loss: 0.4042 - accuracy: 0.8275\n",
            "Epoch 12/100\n",
            "250/250 [==============================] - 0s 863us/step - loss: 0.4024 - accuracy: 0.8298\n",
            "Epoch 13/100\n",
            "250/250 [==============================] - 0s 955us/step - loss: 0.4006 - accuracy: 0.8314\n",
            "Epoch 14/100\n",
            "250/250 [==============================] - 0s 897us/step - loss: 0.3990 - accuracy: 0.8311\n",
            "Epoch 15/100\n",
            "250/250 [==============================] - 0s 872us/step - loss: 0.3974 - accuracy: 0.8306\n",
            "Epoch 16/100\n",
            "250/250 [==============================] - 0s 868us/step - loss: 0.3957 - accuracy: 0.8315\n",
            "Epoch 17/100\n",
            "250/250 [==============================] - 0s 907us/step - loss: 0.3942 - accuracy: 0.8325\n",
            "Epoch 18/100\n",
            "250/250 [==============================] - 0s 865us/step - loss: 0.3926 - accuracy: 0.8332\n",
            "Epoch 19/100\n",
            "250/250 [==============================] - 0s 927us/step - loss: 0.3908 - accuracy: 0.8335\n",
            "Epoch 20/100\n",
            "250/250 [==============================] - 0s 885us/step - loss: 0.3888 - accuracy: 0.8351\n",
            "Epoch 21/100\n",
            "250/250 [==============================] - 0s 922us/step - loss: 0.3869 - accuracy: 0.8341\n",
            "Epoch 22/100\n",
            "250/250 [==============================] - 0s 878us/step - loss: 0.3847 - accuracy: 0.8360\n",
            "Epoch 23/100\n",
            "250/250 [==============================] - 0s 876us/step - loss: 0.3825 - accuracy: 0.8379\n",
            "Epoch 24/100\n",
            "250/250 [==============================] - 0s 901us/step - loss: 0.3803 - accuracy: 0.8379\n",
            "Epoch 25/100\n",
            "250/250 [==============================] - 0s 912us/step - loss: 0.3775 - accuracy: 0.8386\n",
            "Epoch 26/100\n",
            "250/250 [==============================] - 0s 951us/step - loss: 0.3751 - accuracy: 0.8413\n",
            "Epoch 27/100\n",
            "250/250 [==============================] - 0s 936us/step - loss: 0.3721 - accuracy: 0.8415\n",
            "Epoch 28/100\n",
            "250/250 [==============================] - 0s 850us/step - loss: 0.3697 - accuracy: 0.8450\n",
            "Epoch 29/100\n",
            "250/250 [==============================] - 0s 877us/step - loss: 0.3669 - accuracy: 0.8451\n",
            "Epoch 30/100\n",
            "250/250 [==============================] - 0s 937us/step - loss: 0.3642 - accuracy: 0.8469\n",
            "Epoch 31/100\n",
            "250/250 [==============================] - 0s 886us/step - loss: 0.3615 - accuracy: 0.8484\n",
            "Epoch 32/100\n",
            "250/250 [==============================] - 0s 877us/step - loss: 0.3587 - accuracy: 0.8501\n",
            "Epoch 33/100\n",
            "250/250 [==============================] - 0s 873us/step - loss: 0.3560 - accuracy: 0.8503\n",
            "Epoch 34/100\n",
            "250/250 [==============================] - 0s 885us/step - loss: 0.3541 - accuracy: 0.8510\n",
            "Epoch 35/100\n",
            "250/250 [==============================] - 0s 896us/step - loss: 0.3518 - accuracy: 0.8543\n",
            "Epoch 36/100\n",
            "250/250 [==============================] - 0s 860us/step - loss: 0.3500 - accuracy: 0.8547\n",
            "Epoch 37/100\n",
            "250/250 [==============================] - 0s 891us/step - loss: 0.3484 - accuracy: 0.8577\n",
            "Epoch 38/100\n",
            "250/250 [==============================] - 0s 894us/step - loss: 0.3474 - accuracy: 0.8581\n",
            "Epoch 39/100\n",
            "250/250 [==============================] - 0s 915us/step - loss: 0.3463 - accuracy: 0.8585\n",
            "Epoch 40/100\n",
            "250/250 [==============================] - 0s 981us/step - loss: 0.3448 - accuracy: 0.8604\n",
            "Epoch 41/100\n",
            "250/250 [==============================] - 0s 870us/step - loss: 0.3448 - accuracy: 0.8581\n",
            "Epoch 42/100\n",
            "250/250 [==============================] - 0s 942us/step - loss: 0.3441 - accuracy: 0.8577\n",
            "Epoch 43/100\n",
            "250/250 [==============================] - 0s 954us/step - loss: 0.3434 - accuracy: 0.8587\n",
            "Epoch 44/100\n",
            "250/250 [==============================] - 0s 906us/step - loss: 0.3430 - accuracy: 0.8594\n",
            "Epoch 45/100\n",
            "250/250 [==============================] - 0s 911us/step - loss: 0.3425 - accuracy: 0.8590\n",
            "Epoch 46/100\n",
            "250/250 [==============================] - 0s 888us/step - loss: 0.3420 - accuracy: 0.8596\n",
            "Epoch 47/100\n",
            "250/250 [==============================] - 0s 933us/step - loss: 0.3413 - accuracy: 0.8581\n",
            "Epoch 48/100\n",
            "250/250 [==============================] - 0s 928us/step - loss: 0.3411 - accuracy: 0.8596\n",
            "Epoch 49/100\n",
            "250/250 [==============================] - 0s 891us/step - loss: 0.3409 - accuracy: 0.8587\n",
            "Epoch 50/100\n",
            "250/250 [==============================] - 0s 900us/step - loss: 0.3402 - accuracy: 0.8594\n",
            "Epoch 51/100\n",
            "250/250 [==============================] - 0s 890us/step - loss: 0.3401 - accuracy: 0.8593\n",
            "Epoch 52/100\n",
            "250/250 [==============================] - 0s 934us/step - loss: 0.3399 - accuracy: 0.8605\n",
            "Epoch 53/100\n",
            "250/250 [==============================] - 0s 905us/step - loss: 0.3400 - accuracy: 0.8599\n",
            "Epoch 54/100\n",
            "250/250 [==============================] - 0s 922us/step - loss: 0.3394 - accuracy: 0.8612\n",
            "Epoch 55/100\n",
            "250/250 [==============================] - 0s 876us/step - loss: 0.3388 - accuracy: 0.8615\n",
            "Epoch 56/100\n",
            "250/250 [==============================] - 0s 874us/step - loss: 0.3392 - accuracy: 0.8596\n",
            "Epoch 57/100\n",
            "250/250 [==============================] - 0s 936us/step - loss: 0.3392 - accuracy: 0.8593\n",
            "Epoch 58/100\n",
            "250/250 [==============================] - 0s 904us/step - loss: 0.3385 - accuracy: 0.8608\n",
            "Epoch 59/100\n",
            "250/250 [==============================] - 0s 885us/step - loss: 0.3389 - accuracy: 0.8606\n",
            "Epoch 60/100\n",
            "250/250 [==============================] - 0s 881us/step - loss: 0.3383 - accuracy: 0.8608\n",
            "Epoch 61/100\n",
            "250/250 [==============================] - 0s 905us/step - loss: 0.3380 - accuracy: 0.8610\n",
            "Epoch 62/100\n",
            "250/250 [==============================] - 0s 929us/step - loss: 0.3382 - accuracy: 0.8610\n",
            "Epoch 63/100\n",
            "250/250 [==============================] - 0s 897us/step - loss: 0.3382 - accuracy: 0.8597\n",
            "Epoch 64/100\n",
            "250/250 [==============================] - 0s 870us/step - loss: 0.3377 - accuracy: 0.8614\n",
            "Epoch 65/100\n",
            "250/250 [==============================] - 0s 970us/step - loss: 0.3369 - accuracy: 0.8619\n",
            "Epoch 66/100\n",
            "250/250 [==============================] - 0s 858us/step - loss: 0.3374 - accuracy: 0.8614\n",
            "Epoch 67/100\n",
            "250/250 [==============================] - 0s 897us/step - loss: 0.3367 - accuracy: 0.8619\n",
            "Epoch 68/100\n",
            "250/250 [==============================] - 0s 868us/step - loss: 0.3371 - accuracy: 0.8605\n",
            "Epoch 69/100\n",
            "250/250 [==============================] - 0s 897us/step - loss: 0.3373 - accuracy: 0.8620\n",
            "Epoch 70/100\n",
            "250/250 [==============================] - 0s 931us/step - loss: 0.3367 - accuracy: 0.8620\n",
            "Epoch 71/100\n",
            "250/250 [==============================] - 0s 878us/step - loss: 0.3369 - accuracy: 0.8618\n",
            "Epoch 72/100\n",
            "250/250 [==============================] - 0s 892us/step - loss: 0.3368 - accuracy: 0.8625\n",
            "Epoch 73/100\n",
            "250/250 [==============================] - 0s 887us/step - loss: 0.3364 - accuracy: 0.8624\n",
            "Epoch 74/100\n",
            "250/250 [==============================] - 0s 877us/step - loss: 0.3365 - accuracy: 0.8610\n",
            "Epoch 75/100\n",
            "250/250 [==============================] - 0s 882us/step - loss: 0.3365 - accuracy: 0.8631\n",
            "Epoch 76/100\n",
            "250/250 [==============================] - 0s 890us/step - loss: 0.3363 - accuracy: 0.8626\n",
            "Epoch 77/100\n",
            "250/250 [==============================] - 0s 888us/step - loss: 0.3360 - accuracy: 0.8622\n",
            "Epoch 78/100\n",
            "250/250 [==============================] - 0s 872us/step - loss: 0.3362 - accuracy: 0.8645\n",
            "Epoch 79/100\n",
            "250/250 [==============================] - 0s 911us/step - loss: 0.3361 - accuracy: 0.8620\n",
            "Epoch 80/100\n",
            "250/250 [==============================] - 0s 873us/step - loss: 0.3357 - accuracy: 0.8631\n",
            "Epoch 81/100\n",
            "250/250 [==============================] - 0s 968us/step - loss: 0.3355 - accuracy: 0.8634\n",
            "Epoch 82/100\n",
            "250/250 [==============================] - 0s 882us/step - loss: 0.3354 - accuracy: 0.8621\n",
            "Epoch 83/100\n",
            "250/250 [==============================] - 0s 910us/step - loss: 0.3355 - accuracy: 0.8619\n",
            "Epoch 84/100\n",
            "250/250 [==============================] - 0s 883us/step - loss: 0.3354 - accuracy: 0.8620\n",
            "Epoch 85/100\n",
            "250/250 [==============================] - 0s 916us/step - loss: 0.3352 - accuracy: 0.8624\n",
            "Epoch 86/100\n",
            "250/250 [==============================] - 0s 848us/step - loss: 0.3352 - accuracy: 0.8619\n",
            "Epoch 87/100\n",
            "250/250 [==============================] - 0s 991us/step - loss: 0.3353 - accuracy: 0.8625\n",
            "Epoch 88/100\n",
            "250/250 [==============================] - 0s 885us/step - loss: 0.3353 - accuracy: 0.8619\n",
            "Epoch 89/100\n",
            "250/250 [==============================] - 0s 858us/step - loss: 0.3348 - accuracy: 0.8630\n",
            "Epoch 90/100\n",
            "250/250 [==============================] - 0s 859us/step - loss: 0.3351 - accuracy: 0.8633\n",
            "Epoch 91/100\n",
            "250/250 [==============================] - 0s 892us/step - loss: 0.3350 - accuracy: 0.8634\n",
            "Epoch 92/100\n",
            "250/250 [==============================] - 0s 944us/step - loss: 0.3347 - accuracy: 0.8627\n",
            "Epoch 93/100\n",
            "250/250 [==============================] - 0s 871us/step - loss: 0.3354 - accuracy: 0.8635\n",
            "Epoch 94/100\n",
            "250/250 [==============================] - 0s 918us/step - loss: 0.3345 - accuracy: 0.8629\n",
            "Epoch 95/100\n",
            "250/250 [==============================] - 0s 917us/step - loss: 0.3347 - accuracy: 0.8629\n",
            "Epoch 96/100\n",
            "250/250 [==============================] - 0s 918us/step - loss: 0.3348 - accuracy: 0.8629\n",
            "Epoch 97/100\n",
            "250/250 [==============================] - 0s 899us/step - loss: 0.3346 - accuracy: 0.8634\n",
            "Epoch 98/100\n",
            "250/250 [==============================] - 0s 895us/step - loss: 0.3346 - accuracy: 0.8637\n",
            "Epoch 99/100\n",
            "250/250 [==============================] - 0s 976us/step - loss: 0.3345 - accuracy: 0.8630\n",
            "Epoch 100/100\n",
            "250/250 [==============================] - 0s 873us/step - loss: 0.3346 - accuracy: 0.8639\n"
          ],
          "name": "stdout"
        },
        {
          "output_type": "execute_result",
          "data": {
            "text/plain": [
              "<tensorflow.python.keras.callbacks.History at 0x7fa507961c18>"
            ]
          },
          "metadata": {
            "tags": []
          },
          "execution_count": 20
        }
      ]
    },
    {
      "cell_type": "markdown",
      "metadata": {
        "id": "tJj5k2MxZga3",
        "colab_type": "text"
      },
      "source": [
        "## Parte 4: Hago las predicciones del modelo"
      ]
    },
    {
      "cell_type": "markdown",
      "metadata": {
        "id": "84QFoqGYeXHL",
        "colab_type": "text"
      },
      "source": [
        "### Pruebo una prediccion individual"
      ]
    },
    {
      "cell_type": "markdown",
      "metadata": {
        "id": "CGRo3eacgDdC",
        "colab_type": "text"
      },
      "source": [
        "Geography: France\n",
        "\n",
        "Credit Score: 600\n",
        "\n",
        "Gender: Male\n",
        "\n",
        "Age: 40 years old\n",
        "\n",
        "Tenure: 3 years\n",
        "\n",
        "Balance: \\$ 60000\n",
        "\n",
        "Number of Products: 2\n",
        "\n",
        "Does this customer have a credit card? Yes\n",
        "\n",
        "Is this customer an Active Member: Yes\n",
        "\n",
        "Estimated Salary: \\$ 50000\n"
      ]
    },
    {
      "cell_type": "markdown",
      "metadata": {
        "id": "ZhU1LTgPg-kH",
        "colab_type": "text"
      },
      "source": [
        "**Solution**"
      ]
    },
    {
      "cell_type": "code",
      "metadata": {
        "id": "u6PZlrALPsMe",
        "colab_type": "code",
        "colab": {
          "base_uri": "https://localhost:8080/",
          "height": 35
        },
        "outputId": "ae94af72-6f9d-4eb1-e091-7440aed2717a"
      },
      "source": [
        "print(ann.predict(sc.transform([[1, 0, 0, 600, 1, 40, 3, 60000, 2, 1, 1, 50000]])) > 0.5)"
      ],
      "execution_count": 21,
      "outputs": [
        {
          "output_type": "stream",
          "text": [
            "[[False]]\n"
          ],
          "name": "stdout"
        }
      ]
    },
    {
      "cell_type": "markdown",
      "metadata": {
        "id": "u7yx47jPZt11",
        "colab_type": "text"
      },
      "source": [
        "### Predigo los resultados del Testing Set"
      ]
    },
    {
      "cell_type": "code",
      "metadata": {
        "id": "LA6JoWGQREiD",
        "colab_type": "code",
        "colab": {
          "base_uri": "https://localhost:8080/",
          "height": 139
        },
        "outputId": "65438d64-e70b-4665-91fd-d3c8ff550f77"
      },
      "source": [
        "y_pred = ann.predict(X_test)\n",
        "y_pred = (y_pred > 0.5)\n",
        "print(np.concatenate((y_pred.reshape(len(y_pred),1), y_test.reshape(len(y_test),1)),1))"
      ],
      "execution_count": 23,
      "outputs": [
        {
          "output_type": "stream",
          "text": [
            "[[0 0]\n",
            " [0 1]\n",
            " [0 0]\n",
            " ...\n",
            " [0 0]\n",
            " [0 0]\n",
            " [0 0]]\n"
          ],
          "name": "stdout"
        }
      ]
    },
    {
      "cell_type": "markdown",
      "metadata": {
        "id": "o0oyfLWoaEGw",
        "colab_type": "text"
      },
      "source": [
        "### Hago matriz de Confusion"
      ]
    },
    {
      "cell_type": "code",
      "metadata": {
        "id": "7LMdyDmpRRPB",
        "colab_type": "code",
        "colab": {
          "base_uri": "https://localhost:8080/",
          "height": 69
        },
        "outputId": "2cbaee53-177a-4391-e104-f67097683d6b"
      },
      "source": [
        "from sklearn.metrics import confusion_matrix, accuracy_score\n",
        "cm = confusion_matrix(y_test, y_pred)\n",
        "print(cm)\n",
        "accuracy_score(y_test, y_pred)"
      ],
      "execution_count": 24,
      "outputs": [
        {
          "output_type": "stream",
          "text": [
            "[[1504   91]\n",
            " [ 183  222]]\n"
          ],
          "name": "stdout"
        },
        {
          "output_type": "execute_result",
          "data": {
            "text/plain": [
              "0.863"
            ]
          },
          "metadata": {
            "tags": []
          },
          "execution_count": 24
        }
      ]
    }
  ]
}